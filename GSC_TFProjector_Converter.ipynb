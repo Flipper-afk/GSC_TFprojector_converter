{
  "nbformat": 4,
  "nbformat_minor": 0,
  "metadata": {
    "colab": {
      "provenance": [],
      "toc_visible": true
    },
    "kernelspec": {
      "name": "python3",
      "display_name": "Python 3"
    },
    "language_info": {
      "name": "python"
    }
  },
  "cells": [
    {
      "cell_type": "markdown",
      "source": [
        "#Port GSC Search Queries into TF Projector Embeddings\n"
      ],
      "metadata": {
        "id": "l6FLL6PWXt__"
      }
    },
    {
      "cell_type": "markdown",
      "source": [
        "<table>\n",
        "  <td>\n",
        "    <a target=\"_blank\" href=\"https://colab.research.google.com/github/Flipper-afk/GSC_TFprojector_converter/blob/main/GSC_TFProjector_Converter.ipynb\"><img src=\"https://www.tensorflow.org/images/colab_logo_32px.png\" align=\"center\" /> Run in Google Colab</a>\n",
        "  </td>\n",
        "  <td>\n",
        "    <a target=\"_blank\" href=\"https://github.com/Flipper-afk/GSC_TFprojector_converter/blob/main/GSC_TFProjector_Converter.ipynb\"><img src=\"https://www.tensorflow.org/images/GitHub-Mark-32px.png\" align=\"center\" /> View source on GitHub</a>\n",
        "  </td>\n",
        "</table>"
      ],
      "metadata": {
        "id": "F7K4jrcCWCuw"
      }
    },
    {
      "cell_type": "markdown",
      "source": [
        "\n",
        "Table of Content:\n",
        "\n",
        "\n",
        "*   Download Google Search Console [GSC Queries via .csv Export](https://support.google.com/webmasters/answer/12919797?hl=en)\n",
        "*  Vectorize Text into High-Dimensional Space:\n",
        " *    - Import Queries from .csv File\n",
        " *    - Generate Query Embeddings via [Universal Sentence Encoder (v3)](https://www.tensorflow.org/hub/tutorials/semantic_similarity_with_tf_hub_universal_encoder)\n",
        " *    - Export Query Embeddings as .csv File\n",
        "*   Import Query Embeddings into [Tensorflow Projector](https://projector.tensorflow.org/)\n",
        " *   Read more about the [TF Embedding Projector: a tool for visualizing high dimensional data ](https://support.google.com/webmasters/answer/12919797?hl=en)\n",
        "\n",
        "\n"
      ],
      "metadata": {
        "id": "y9_lXYwS6Wws"
      }
    },
    {
      "cell_type": "code",
      "source": [
        "!pip install -q tensorflow_text"
      ],
      "metadata": {
        "id": "vc7mt7PxSKmL",
        "colab": {
          "base_uri": "https://localhost:8080/"
        },
        "outputId": "bdbf475d-538e-4ac3-b1a2-2148b168a836"
      },
      "execution_count": null,
      "outputs": [
        {
          "output_type": "stream",
          "name": "stdout",
          "text": [
            "\u001b[2K     \u001b[90m━━━━━━━━━━━━━━━━━━━━━━━━━━━━━━━━━━━━━━━━\u001b[0m \u001b[32m6.0/6.0 MB\u001b[0m \u001b[31m29.5 MB/s\u001b[0m eta \u001b[36m0:00:00\u001b[0m\n",
            "\u001b[?25h"
          ]
        }
      ]
    },
    {
      "cell_type": "code",
      "execution_count": null,
      "metadata": {
        "id": "-V-wJ7uv38V_"
      },
      "outputs": [],
      "source": [
        "from google.colab import files\n",
        "import io\n",
        "import pandas as pd\n",
        "import numpy as np\n",
        "import tensorflow as tf\n",
        "\n",
        "import tensorflow_hub as hub\n",
        "import tensorflow_text"
      ]
    },
    {
      "cell_type": "markdown",
      "source": [
        "# Vectorize Text into High-Dimensional Space"
      ],
      "metadata": {
        "id": "959pBllZP13P"
      }
    },
    {
      "cell_type": "markdown",
      "source": [
        "## Import GSC Queries from .csv File"
      ],
      "metadata": {
        "id": "30nlyM55POgS"
      }
    },
    {
      "cell_type": "markdown",
      "source": [
        "Note: Make sure, the 1st Column of your .csv file contains the queries"
      ],
      "metadata": {
        "id": "aVF0SWjxA9NG"
      }
    },
    {
      "cell_type": "code",
      "source": [
        "uploaded = files.upload()\n",
        "df = pd.read_csv(io.BytesIO(uploaded[next(iter(uploaded.keys()))]))\n",
        "keywords = df.to_numpy()[:,0]\n",
        "print(\"Found Keywords: \", keywords.shape)\n",
        "print(\"Showing first 10 found keywords:\\n\", keywords[:10])"
      ],
      "metadata": {
        "id": "IIWCk2rF4Fx6"
      },
      "execution_count": null,
      "outputs": []
    },
    {
      "cell_type": "markdown",
      "source": [
        "## Generate Query Embeddings via Universal Sentence Encoder (v3)"
      ],
      "metadata": {
        "id": "PCpQjXAAPXlI"
      }
    },
    {
      "cell_type": "code",
      "source": [
        "embeddings = hub.load('https://tfhub.dev/google/universal-sentence-encoder-multilingual/3')\n",
        "keyword_embedding = embeddings(keywords)\n",
        "print(\"Embedding Dimension: \", keyword_embedding.shape)"
      ],
      "metadata": {
        "id": "cl52RqWkSYzE"
      },
      "execution_count": null,
      "outputs": []
    },
    {
      "cell_type": "markdown",
      "source": [
        "## Export Query Embeddings as .csv File"
      ],
      "metadata": {
        "id": "IYRCiP9YPnjE"
      }
    },
    {
      "cell_type": "markdown",
      "source": [
        "Info: Allow multiple download's in your Webbrowser (There might be a browser notification)"
      ],
      "metadata": {
        "id": "hP7ZldmDSx-_"
      }
    },
    {
      "cell_type": "code",
      "source": [
        "np.savetxt(\"vectors.tsv\", keyword_embedding, delimiter=\"\\t\", newline='\\n')\n",
        "np.savetxt(\"metadata.tsv\", keywords, delimiter=\"\\t\", newline='\\n', fmt='%s')\n",
        "files.download('vectors.tsv')\n",
        "files.download('metadata.tsv')"
      ],
      "metadata": {
        "colab": {
          "base_uri": "https://localhost:8080/",
          "height": 17
        },
        "id": "duITs-eKTYga",
        "outputId": "ff453cef-2088-4b79-8351-bb88e8f5c68e"
      },
      "execution_count": null,
      "outputs": [
        {
          "output_type": "display_data",
          "data": {
            "text/plain": [
              "<IPython.core.display.Javascript object>"
            ],
            "application/javascript": [
              "\n",
              "    async function download(id, filename, size) {\n",
              "      if (!google.colab.kernel.accessAllowed) {\n",
              "        return;\n",
              "      }\n",
              "      const div = document.createElement('div');\n",
              "      const label = document.createElement('label');\n",
              "      label.textContent = `Downloading \"${filename}\": `;\n",
              "      div.appendChild(label);\n",
              "      const progress = document.createElement('progress');\n",
              "      progress.max = size;\n",
              "      div.appendChild(progress);\n",
              "      document.body.appendChild(div);\n",
              "\n",
              "      const buffers = [];\n",
              "      let downloaded = 0;\n",
              "\n",
              "      const channel = await google.colab.kernel.comms.open(id);\n",
              "      // Send a message to notify the kernel that we're ready.\n",
              "      channel.send({})\n",
              "\n",
              "      for await (const message of channel.messages) {\n",
              "        // Send a message to notify the kernel that we're ready.\n",
              "        channel.send({})\n",
              "        if (message.buffers) {\n",
              "          for (const buffer of message.buffers) {\n",
              "            buffers.push(buffer);\n",
              "            downloaded += buffer.byteLength;\n",
              "            progress.value = downloaded;\n",
              "          }\n",
              "        }\n",
              "      }\n",
              "      const blob = new Blob(buffers, {type: 'application/binary'});\n",
              "      const a = document.createElement('a');\n",
              "      a.href = window.URL.createObjectURL(blob);\n",
              "      a.download = filename;\n",
              "      div.appendChild(a);\n",
              "      a.click();\n",
              "      div.remove();\n",
              "    }\n",
              "  "
            ]
          },
          "metadata": {}
        },
        {
          "output_type": "display_data",
          "data": {
            "text/plain": [
              "<IPython.core.display.Javascript object>"
            ],
            "application/javascript": [
              "download(\"download_b87c7f33-76a7-4255-87bf-b46a48a78e51\", \"vectors.tsv\", 13060378)"
            ]
          },
          "metadata": {}
        },
        {
          "output_type": "display_data",
          "data": {
            "text/plain": [
              "<IPython.core.display.Javascript object>"
            ],
            "application/javascript": [
              "\n",
              "    async function download(id, filename, size) {\n",
              "      if (!google.colab.kernel.accessAllowed) {\n",
              "        return;\n",
              "      }\n",
              "      const div = document.createElement('div');\n",
              "      const label = document.createElement('label');\n",
              "      label.textContent = `Downloading \"${filename}\": `;\n",
              "      div.appendChild(label);\n",
              "      const progress = document.createElement('progress');\n",
              "      progress.max = size;\n",
              "      div.appendChild(progress);\n",
              "      document.body.appendChild(div);\n",
              "\n",
              "      const buffers = [];\n",
              "      let downloaded = 0;\n",
              "\n",
              "      const channel = await google.colab.kernel.comms.open(id);\n",
              "      // Send a message to notify the kernel that we're ready.\n",
              "      channel.send({})\n",
              "\n",
              "      for await (const message of channel.messages) {\n",
              "        // Send a message to notify the kernel that we're ready.\n",
              "        channel.send({})\n",
              "        if (message.buffers) {\n",
              "          for (const buffer of message.buffers) {\n",
              "            buffers.push(buffer);\n",
              "            downloaded += buffer.byteLength;\n",
              "            progress.value = downloaded;\n",
              "          }\n",
              "        }\n",
              "      }\n",
              "      const blob = new Blob(buffers, {type: 'application/binary'});\n",
              "      const a = document.createElement('a');\n",
              "      a.href = window.URL.createObjectURL(blob);\n",
              "      a.download = filename;\n",
              "      div.appendChild(a);\n",
              "      a.click();\n",
              "      div.remove();\n",
              "    }\n",
              "  "
            ]
          },
          "metadata": {}
        },
        {
          "output_type": "display_data",
          "data": {
            "text/plain": [
              "<IPython.core.display.Javascript object>"
            ],
            "application/javascript": [
              "download(\"download_efc63118-12e7-497b-abb8-f17192cde772\", \"metadata.tsv\", 28176)"
            ]
          },
          "metadata": {}
        }
      ]
    },
    {
      "cell_type": "markdown",
      "source": [
        "# Import Query Embeddings into Tensorflow Projector\n",
        "\n",
        "1.   Open [Tensorflow Projector](https://projector.tensorflow.org/)\n",
        "\n",
        "2.   Click the \"Load\" Button\n",
        "\n",
        "3.   \"*Step 1: Load a TSV file of vectors.*\"  > Select \"vectors.tsv\"\n",
        "\n",
        "4.   \"*Step 2: Load a TSV file of metadata.*\" > Select \"metadata.tsv\"\n",
        "\n",
        "Happy Discovering!\n",
        "\n"
      ],
      "metadata": {
        "id": "Z_gpyVb8QN7w"
      }
    }
  ]
}